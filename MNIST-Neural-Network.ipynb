{
 "cells": [
  {
   "cell_type": "code",
   "execution_count": 1,
   "id": "b433f3f4-c764-4910-8de2-c4dd150d8daf",
   "metadata": {},
   "outputs": [],
   "source": [
    "import numpy as np\n",
    "import matplotlib.pyplot as plt\n",
    "import pandas as pd"
   ]
  },
  {
   "cell_type": "code",
   "execution_count": 19,
   "id": "0a8edeea-14d5-4dbc-a1b2-3ea5e70df54e",
   "metadata": {},
   "outputs": [],
   "source": [
    "data = pd.read_csv('digit-recognizer/train.csv')\n",
    "data_test = pd.read_csv('digit-recognizer/test.csv')"
   ]
  },
  {
   "cell_type": "code",
   "execution_count": 3,
   "id": "a652abcd-2981-43b7-a193-8adb792d717c",
   "metadata": {},
   "outputs": [
    {
     "data": {
      "text/html": [
       "<div>\n",
       "<style scoped>\n",
       "    .dataframe tbody tr th:only-of-type {\n",
       "        vertical-align: middle;\n",
       "    }\n",
       "\n",
       "    .dataframe tbody tr th {\n",
       "        vertical-align: top;\n",
       "    }\n",
       "\n",
       "    .dataframe thead th {\n",
       "        text-align: right;\n",
       "    }\n",
       "</style>\n",
       "<table border=\"1\" class=\"dataframe\">\n",
       "  <thead>\n",
       "    <tr style=\"text-align: right;\">\n",
       "      <th></th>\n",
       "      <th>label</th>\n",
       "      <th>pixel0</th>\n",
       "      <th>pixel1</th>\n",
       "      <th>pixel2</th>\n",
       "      <th>pixel3</th>\n",
       "      <th>pixel4</th>\n",
       "      <th>pixel5</th>\n",
       "      <th>pixel6</th>\n",
       "      <th>pixel7</th>\n",
       "      <th>pixel8</th>\n",
       "      <th>...</th>\n",
       "      <th>pixel774</th>\n",
       "      <th>pixel775</th>\n",
       "      <th>pixel776</th>\n",
       "      <th>pixel777</th>\n",
       "      <th>pixel778</th>\n",
       "      <th>pixel779</th>\n",
       "      <th>pixel780</th>\n",
       "      <th>pixel781</th>\n",
       "      <th>pixel782</th>\n",
       "      <th>pixel783</th>\n",
       "    </tr>\n",
       "  </thead>\n",
       "  <tbody>\n",
       "    <tr>\n",
       "      <th>0</th>\n",
       "      <td>1</td>\n",
       "      <td>0</td>\n",
       "      <td>0</td>\n",
       "      <td>0</td>\n",
       "      <td>0</td>\n",
       "      <td>0</td>\n",
       "      <td>0</td>\n",
       "      <td>0</td>\n",
       "      <td>0</td>\n",
       "      <td>0</td>\n",
       "      <td>...</td>\n",
       "      <td>0</td>\n",
       "      <td>0</td>\n",
       "      <td>0</td>\n",
       "      <td>0</td>\n",
       "      <td>0</td>\n",
       "      <td>0</td>\n",
       "      <td>0</td>\n",
       "      <td>0</td>\n",
       "      <td>0</td>\n",
       "      <td>0</td>\n",
       "    </tr>\n",
       "    <tr>\n",
       "      <th>1</th>\n",
       "      <td>0</td>\n",
       "      <td>0</td>\n",
       "      <td>0</td>\n",
       "      <td>0</td>\n",
       "      <td>0</td>\n",
       "      <td>0</td>\n",
       "      <td>0</td>\n",
       "      <td>0</td>\n",
       "      <td>0</td>\n",
       "      <td>0</td>\n",
       "      <td>...</td>\n",
       "      <td>0</td>\n",
       "      <td>0</td>\n",
       "      <td>0</td>\n",
       "      <td>0</td>\n",
       "      <td>0</td>\n",
       "      <td>0</td>\n",
       "      <td>0</td>\n",
       "      <td>0</td>\n",
       "      <td>0</td>\n",
       "      <td>0</td>\n",
       "    </tr>\n",
       "    <tr>\n",
       "      <th>2</th>\n",
       "      <td>1</td>\n",
       "      <td>0</td>\n",
       "      <td>0</td>\n",
       "      <td>0</td>\n",
       "      <td>0</td>\n",
       "      <td>0</td>\n",
       "      <td>0</td>\n",
       "      <td>0</td>\n",
       "      <td>0</td>\n",
       "      <td>0</td>\n",
       "      <td>...</td>\n",
       "      <td>0</td>\n",
       "      <td>0</td>\n",
       "      <td>0</td>\n",
       "      <td>0</td>\n",
       "      <td>0</td>\n",
       "      <td>0</td>\n",
       "      <td>0</td>\n",
       "      <td>0</td>\n",
       "      <td>0</td>\n",
       "      <td>0</td>\n",
       "    </tr>\n",
       "    <tr>\n",
       "      <th>3</th>\n",
       "      <td>4</td>\n",
       "      <td>0</td>\n",
       "      <td>0</td>\n",
       "      <td>0</td>\n",
       "      <td>0</td>\n",
       "      <td>0</td>\n",
       "      <td>0</td>\n",
       "      <td>0</td>\n",
       "      <td>0</td>\n",
       "      <td>0</td>\n",
       "      <td>...</td>\n",
       "      <td>0</td>\n",
       "      <td>0</td>\n",
       "      <td>0</td>\n",
       "      <td>0</td>\n",
       "      <td>0</td>\n",
       "      <td>0</td>\n",
       "      <td>0</td>\n",
       "      <td>0</td>\n",
       "      <td>0</td>\n",
       "      <td>0</td>\n",
       "    </tr>\n",
       "    <tr>\n",
       "      <th>4</th>\n",
       "      <td>0</td>\n",
       "      <td>0</td>\n",
       "      <td>0</td>\n",
       "      <td>0</td>\n",
       "      <td>0</td>\n",
       "      <td>0</td>\n",
       "      <td>0</td>\n",
       "      <td>0</td>\n",
       "      <td>0</td>\n",
       "      <td>0</td>\n",
       "      <td>...</td>\n",
       "      <td>0</td>\n",
       "      <td>0</td>\n",
       "      <td>0</td>\n",
       "      <td>0</td>\n",
       "      <td>0</td>\n",
       "      <td>0</td>\n",
       "      <td>0</td>\n",
       "      <td>0</td>\n",
       "      <td>0</td>\n",
       "      <td>0</td>\n",
       "    </tr>\n",
       "  </tbody>\n",
       "</table>\n",
       "<p>5 rows × 785 columns</p>\n",
       "</div>"
      ],
      "text/plain": [
       "   label  pixel0  pixel1  pixel2  pixel3  pixel4  pixel5  pixel6  pixel7  \\\n",
       "0      1       0       0       0       0       0       0       0       0   \n",
       "1      0       0       0       0       0       0       0       0       0   \n",
       "2      1       0       0       0       0       0       0       0       0   \n",
       "3      4       0       0       0       0       0       0       0       0   \n",
       "4      0       0       0       0       0       0       0       0       0   \n",
       "\n",
       "   pixel8  ...  pixel774  pixel775  pixel776  pixel777  pixel778  pixel779  \\\n",
       "0       0  ...         0         0         0         0         0         0   \n",
       "1       0  ...         0         0         0         0         0         0   \n",
       "2       0  ...         0         0         0         0         0         0   \n",
       "3       0  ...         0         0         0         0         0         0   \n",
       "4       0  ...         0         0         0         0         0         0   \n",
       "\n",
       "   pixel780  pixel781  pixel782  pixel783  \n",
       "0         0         0         0         0  \n",
       "1         0         0         0         0  \n",
       "2         0         0         0         0  \n",
       "3         0         0         0         0  \n",
       "4         0         0         0         0  \n",
       "\n",
       "[5 rows x 785 columns]"
      ]
     },
     "execution_count": 3,
     "metadata": {},
     "output_type": "execute_result"
    }
   ],
   "source": [
    "data.head()"
   ]
  },
  {
   "cell_type": "code",
   "execution_count": null,
   "id": "4685e79e-82e2-435d-86a8-8207c8c0280f",
   "metadata": {},
   "outputs": [],
   "source": [
    "Y = data_test['label']\n",
    "X = data_test.drop(['label'],axis=1)\n",
    "\n",
    "m,n = X.shape\n",
    "\n",
    "Y = np.array(Y)\n",
    "X = np.array(X)\n",
    "\n",
    "\n",
    "X = X.T\n",
    "X.shape"
   ]
  },
  {
   "cell_type": "code",
   "execution_count": null,
   "id": "58be1f7c-602d-43eb-9ce2-819c7a753ede",
   "metadata": {},
   "outputs": [],
   "source": [
    "indices = np.random.permutation(len(Y))\n",
    "\n",
    "X = X[:,indices]\n",
    "Y = Y[indices]"
   ]
  },
  {
   "cell_type": "code",
   "execution_count": null,
   "id": "999a29b7-1fd1-48ef-9643-f68fea9b0c35",
   "metadata": {},
   "outputs": [],
   "source": [
    "W1 = np.random.randn(10, n) * np.sqrt(2 / n)\n",
    "B1 = np.random.randn(10,1) * np.sqrt(2 / 10)\n",
    "W2 = np.random.randn(10,10) * np.sqrt(2 / 10)\n",
    "B2 = np.random.randn(10,1) * np.sqrt(2 / 10)\n",
    "W3 = np.random.randn(10,10) * np.sqrt(2 / 10)\n",
    "B3 = np.random.randn(10,1) * np.sqrt(2 / 10)"
   ]
  },
  {
   "cell_type": "code",
   "execution_count": null,
   "id": "846a27d0-9038-42c3-90ae-a1f7de35fd2d",
   "metadata": {},
   "outputs": [],
   "source": [
    "weights = np.load(\"Model_weights.npz\")\n",
    "\n",
    "W1 = weights['W1']\n",
    "W2 = weights['W2']\n",
    "W3 = weights['W3']\n",
    "B1 = weights['B1']\n",
    "B2 = weights['B2']\n",
    "B3 = weights['B3']"
   ]
  },
  {
   "cell_type": "code",
   "execution_count": null,
   "id": "497b5274-3150-41a1-a269-edc8738da5e6",
   "metadata": {},
   "outputs": [],
   "source": [
    "def relu(x):\n",
    "    return np.maximum(x,0)\n",
    "\n",
    "def softmax(x):\n",
    "    exp_x = np.exp(x - np.max(x, axis=0, keepdims=True)) \n",
    "    return exp_x / np.sum(exp_x, axis=0, keepdims=True)  \n",
    "    \n",
    "def deriv_relu(x):\n",
    "    return (x > 0).astype(int)"
   ]
  },
  {
   "cell_type": "code",
   "execution_count": null,
   "id": "4bb4084a-0301-49e5-a533-f348d070fea9",
   "metadata": {},
   "outputs": [],
   "source": [
    "def train_test_split(x, y, test_size=0.2):\n",
    "    num = int((1 - test_size) * m)\n",
    "    x_train = x[:, :num]\n",
    "    y_train = y[:num]\n",
    "    x_test = x[:, num:]\n",
    "    y_test = y[num:]\n",
    "    \n",
    "    return x_train, y_train, x_test, y_test\n",
    "\n",
    "def one_hot_enc(y, classes=10):\n",
    "    one_hot = np.zeros((y.size, classes))\n",
    "    one_hot[np.arange(y.size), y] = 1\n",
    "    \n",
    "    return one_hot"
   ]
  },
  {
   "cell_type": "code",
   "execution_count": null,
   "id": "67b5dad8-1928-4871-8aeb-2482d194b127",
   "metadata": {},
   "outputs": [],
   "source": [
    "def fwd_prop(x, W1, B1, W2, B2, W3, B3):\n",
    "    \n",
    "    Z1 = np.dot(W1,x) + B1\n",
    "    A1 = relu(Z1)\n",
    "    Z2 = np.dot(W2,A1) + B2\n",
    "    A2 = relu(Z2)\n",
    "    Z3 = np.dot(W3,A2) + B3\n",
    "    A3 = softmax(Z3)\n",
    "    \n",
    "    return Z1, A1, Z2, A2, Z3, A3\n",
    "\n",
    "\n",
    "def back_prop(x, y, Z1, A1, Z2, A2, Z3, A3, b_s=1):\n",
    "    dZ3 = A3 - y\n",
    "    dW3 = np.dot(dZ3,A2.T) / b_s \n",
    "    dB3 = np.sum(dZ3, axis=1, keepdims=True) / b_s\n",
    "    dA2 = np.dot(W3.T,dZ3)\n",
    "    dZ2 = dA2 * deriv_relu(Z2) \n",
    "    dW2 = np.dot(dZ2, A1.T) / b_s\n",
    "    dB2 = np.sum(dZ2, axis=1, keepdims=True) / b_s\n",
    "\n",
    "    dA1 = np.dot(W2.T, dZ2)\n",
    "    dZ1 = dA1 * deriv_relu(Z1)\n",
    "    dW1 = np.dot(dZ1, x.T) / b_s\n",
    "    dB1 = np.sum(dZ1, axis=1, keepdims=True) / b_s\n",
    "     \n",
    "    return dW3, dB3, dW2, dB2, dW1, dB1"
   ]
  },
  {
   "cell_type": "code",
   "execution_count": 31,
   "id": "5c37926c-4500-4091-a7e7-bea5de94fbec",
   "metadata": {},
   "outputs": [
    {
     "data": {
      "text/plain": [
       "(41580,)"
      ]
     },
     "execution_count": 31,
     "metadata": {},
     "output_type": "execute_result"
    }
   ],
   "source": [
    "X_train, Y_train, X_test, Y_test = train_test_split(X, Y, test_size=0.01)\n",
    "batch_size = 10\n",
    "eta = 0.00001\n",
    "eta_decay = 0.995\n",
    "Y_train.shape"
   ]
  },
  {
   "cell_type": "code",
   "execution_count": 32,
   "id": "3a1a12f8-ce34-4f75-be97-4df199e4754e",
   "metadata": {},
   "outputs": [
    {
     "name": "stdout",
     "output_type": "stream",
     "text": [
      "Epoch 1/300, Loss: 0.0192\n",
      "Epoch 21/300, Loss: 0.0190\n",
      "Epoch 41/300, Loss: 0.0189\n",
      "Epoch 61/300, Loss: 0.0189\n",
      "Epoch 81/300, Loss: 0.0189\n",
      "Epoch 101/300, Loss: 0.0187\n",
      "Epoch 121/300, Loss: 0.0186\n",
      "Epoch 141/300, Loss: 0.0185\n",
      "Epoch 161/300, Loss: 0.0186\n",
      "Epoch 181/300, Loss: 0.0185\n",
      "Epoch 201/300, Loss: 0.0185\n"
     ]
    },
    {
     "ename": "KeyboardInterrupt",
     "evalue": "",
     "output_type": "error",
     "traceback": [
      "\u001b[0;31m---------------------------------------------------------------------------\u001b[0m",
      "\u001b[0;31mKeyboardInterrupt\u001b[0m                         Traceback (most recent call last)",
      "Cell \u001b[0;32mIn[32], line 18\u001b[0m\n\u001b[1;32m     16\u001b[0m     B1 \u001b[38;5;241m-\u001b[39m\u001b[38;5;241m=\u001b[39m eta\u001b[38;5;241m*\u001b[39mdB1\n\u001b[1;32m     17\u001b[0m     B2 \u001b[38;5;241m-\u001b[39m\u001b[38;5;241m=\u001b[39m eta\u001b[38;5;241m*\u001b[39mdB2\n\u001b[0;32m---> 18\u001b[0m     B3 \u001b[38;5;241m-\u001b[39m\u001b[38;5;241m=\u001b[39m eta\u001b[38;5;241m*\u001b[39mdB3\n\u001b[1;32m     20\u001b[0m \u001b[38;5;28;01mif\u001b[39;00m epoch\u001b[38;5;241m%\u001b[39m\u001b[38;5;241m20\u001b[39m \u001b[38;5;241m==\u001b[39m \u001b[38;5;241m0\u001b[39m :\n\u001b[1;32m     21\u001b[0m     \u001b[38;5;28mprint\u001b[39m(\u001b[38;5;124mf\u001b[39m\u001b[38;5;124m'\u001b[39m\u001b[38;5;124mEpoch \u001b[39m\u001b[38;5;132;01m{\u001b[39;00mepoch\u001b[38;5;241m+\u001b[39m\u001b[38;5;241m1\u001b[39m\u001b[38;5;132;01m}\u001b[39;00m\u001b[38;5;124m/\u001b[39m\u001b[38;5;132;01m{\u001b[39;00m\u001b[38;5;241m300\u001b[39m\u001b[38;5;132;01m}\u001b[39;00m\u001b[38;5;124m, Loss: \u001b[39m\u001b[38;5;132;01m{\u001b[39;00mloss\u001b[38;5;132;01m:\u001b[39;00m\u001b[38;5;124m.4f\u001b[39m\u001b[38;5;132;01m}\u001b[39;00m\u001b[38;5;124m'\u001b[39m)\n",
      "\u001b[0;31mKeyboardInterrupt\u001b[0m: "
     ]
    }
   ],
   "source": [
    "for epoch in range(300):\n",
    "    for i in range(0, X_train.shape[1], batch_size):\n",
    "       \n",
    "        X_batch = X_train[:,i:i+batch_size]\n",
    "        Y_target = one_hot_enc(Y_train[i:i+batch_size]).T\n",
    "    \n",
    "    \n",
    "        Z1, A1, Z2, A2, Z3, A3 = fwd_prop(X_batch, W1, B1, W2, B2, W3, B3)\n",
    "        dW3, dB3, dW2, dB2, dW1, dB1 = back_prop(X_batch, Y_target, Z1, A1, Z2, A2, Z3, A3, b_s=10)\n",
    "\n",
    "        loss = -np.mean(Y_target * np.log(A3 + 1e-8)\n",
    "\n",
    "        W1 -= eta*dW1\n",
    "        W2 -= eta*dW2\n",
    "        W3 -= eta*dW3\n",
    "        B1 -= eta*dB1\n",
    "        B2 -= eta*dB2\n",
    "        B3 -= eta*dB3\n",
    "\n",
    "    if epoch%20 == 0 :\n",
    "        print(f'Epoch {epoch+1}/{300}, Loss: {loss:.4f}')\n",
    "\n",
    "    if epoch > 700:\n",
    "        eta *= eta_decay\n"
   ]
  },
  {
   "cell_type": "code",
   "execution_count": 42,
   "id": "b74cc3fc-5e2e-4200-872f-6c6a0f7982b7",
   "metadata": {},
   "outputs": [],
   "source": [
    "np.savez(\"Model_weights.npz\", W1=W1, W2=W2,W3=W3, B1=B1, B2=B2, B3=B3)"
   ]
  },
  {
   "cell_type": "code",
   "execution_count": 38,
   "id": "e9db751d-d324-4dad-b806-3874c41e24e0",
   "metadata": {
    "scrolled": true
   },
   "outputs": [
    {
     "name": "stdout",
     "output_type": "stream",
     "text": [
      "Epoch 1, Loss 0.0012624173208445263\n",
      "Epoch 101, Loss 0.007146125419984812\n",
      "Epoch 201, Loss 1.0412350191243322e-08\n",
      "Epoch 301, Loss 0.12734246113693654\n",
      "Epoch 401, Loss 0.0037067089015519424\n",
      "Average loss = 0.05032531095504622\n"
     ]
    }
   ],
   "source": [
    "total_loss = 0\n",
    "for i in range(0, X_test.shape[1]):\n",
    "\n",
    "    X_batch_test = X_test[:,i].reshape(-1,1)\n",
    "    Y_targ = one_hot_enc(Y_test[i]).T\n",
    "\n",
    "    Z1, A1, Z2, A2, Z3, Y_predict = fwd_prop(X_batch_test, W1, B1, W2, B2, W3, B3)\n",
    "    test_loss = -np.mean(Y_targ * np.log(Y_predict + 1e-8)\n",
    "\n",
    "    if i % 100 == 0:\n",
    "        print(f'Epoch {i+1}, Loss {training_loss}')\n",
    "    total_loss += training_loss\n",
    "\n",
    "avg_loss = total_loss / X_test.shape[1]\n",
    "print(f'Average loss = {avg_loss}')"
   ]
  },
  {
   "cell_type": "code",
   "execution_count": 33,
   "id": "58afc397-3208-4df7-9598-04ea4e87d3af",
   "metadata": {},
   "outputs": [],
   "source": [
    "import cv2"
   ]
  },
  {
   "cell_type": "code",
   "execution_count": 34,
   "id": "b367fa18-ab9c-4af2-9e31-39c4928f7376",
   "metadata": {},
   "outputs": [
    {
     "data": {
      "text/plain": [
       "(28000, 784)"
      ]
     },
     "execution_count": 34,
     "metadata": {},
     "output_type": "execute_result"
    }
   ],
   "source": [
    "data_test.shape"
   ]
  },
  {
   "cell_type": "code",
   "execution_count": 39,
   "id": "a8b8e6d6-d2df-4baa-80c8-b531d5b0f100",
   "metadata": {},
   "outputs": [],
   "source": [
    "def predict_number(image, W1, B1, W2, B2, W3, B3):\n",
    "\n",
    "    _, _, _, _, _, Y_pred = fwd_prop(image, W1, B1, W2, B2, W3, B3)\n",
    "\n",
    "    prediction = np.argmax(Y_pred)\n",
    "\n",
    "    plt.imshow(image.reshape(28,28), cmap='gray')\n",
    "    plt.axis('off')\n",
    "    plt.text(14, 30, f\"Prediction = {prediction}\", fontsize=12, ha='center')\n",
    "    plt.show()\n",
    "\n",
    "\n",
    "\n",
    "    return prediction"
   ]
  },
  {
   "cell_type": "code",
   "execution_count": 41,
   "id": "baf9bef8-2bd2-4346-8af7-295fdde228cb",
   "metadata": {},
   "outputs": [
    {
     "data": {
      "image/png": "[encoded data removed]",
      "text/plain": [
       "<Figure size 640x480 with 1 Axes>"
      ]
     },
     "metadata": {},
     "output_type": "display_data"
    },
    {
     "data": {
      "image/png": "[encoded data removed]",
      "text/plain": [
       "<Figure size 640x480 with 1 Axes>"
      ]
     },
     "metadata": {},
     "output_type": "display_data"
    },
    {
     "data": {
      "image/png": "[encoded data removed]",
      "text/plain": [
       "<Figure size 640x480 with 1 Axes>"
      ]
     },
     "metadata": {},
     "output_type": "display_data"
    },
    {
     "data": {
      "image/png": "[encoded data removed]",
      "text/plain": [
       "<Figure size 640x480 with 1 Axes>"
      ]
     },
     "metadata": {},
     "output_type": "display_data"
    },
    {
     "data": {
      "image/png": "[encoded data removed]",
      "text/plain": [
       "<Figure size 640x480 with 1 Axes>"
      ]
     },
     "metadata": {},
     "output_type": "display_data"
    },
    {
     "data": {
      "image/png": "[encoded data removed]",
      "text/plain": [
       "<Figure size 640x480 with 1 Axes>"
      ]
     },
     "metadata": {},
     "output_type": "display_data"
    },
    {
     "data": {
      "image/png": "[encoded data removed]",
      "text/plain": [
       "<Figure size 640x480 with 1 Axes>"
      ]
     },
     "metadata": {},
     "output_type": "display_data"
    },
    {
     "data": {
      "image/png": "[encoded data removed]",
      "text/plain": [
       "<Figure size 640x480 with 1 Axes>"
      ]
     },
     "metadata": {},
     "output_type": "display_data"
    },
    {
     "data": {
      "image/png": "[encoded data removed]",
      "text/plain": [
       "<Figure size 640x480 with 1 Axes>"
      ]
     },
     "metadata": {},
     "output_type": "display_data"
    },
    {
     "data": {
      "image/png": "[encoded data removed]",
      "text/plain": [
       "<Figure size 640x480 with 1 Axes>"
      ]
     },
     "metadata": {},
     "output_type": "display_data"
    }
   ],
   "source": [
    "for i in range(0, 10):\n",
    "    \n",
    "    rand = np.random.randint(0,28000)\n",
    "    image_used = data_test.iloc[rand,:].values.reshape(-1,1)\n",
    "    imag = image_used.reshape(28,28)\n",
    "\n",
    "    predict_number(image_used, W1, B1, W2, B2, W3, B3)"
   ]
  },
  {
   "cell_type": "code",
   "execution_count": 21,
   "id": "d7a7f2f9-ccc9-4824-a09e-5d85c4b68ffd",
   "metadata": {},
   "outputs": [
    {
     "data": {
      "image/png": "[encoded data removed]",
      "text/plain": [
       "<Figure size 640x480 with 1 Axes>"
      ]
     },
     "metadata": {},
     "output_type": "display_data"
    },
    {
     "data": {
      "image/png": "[encoded data removed]",
      "text/plain": [
       "<Figure size 640x480 with 1 Axes>"
      ]
     },
     "metadata": {},
     "output_type": "display_data"
    },
    {
     "data": {
      "image/png": "[encoded data removed]",
      "text/plain": [
       "<Figure size 640x480 with 1 Axes>"
      ]
     },
     "metadata": {},
     "output_type": "display_data"
    },
    {
     "data": {
      "image/png": "[encoded data removed]",
      "text/plain": [
       "<Figure size 640x480 with 1 Axes>"
      ]
     },
     "metadata": {},
     "output_type": "display_data"
    },
    {
     "data": {
      "image/png": "[encoded data removed]",
      "text/plain": [
       "<Figure size 640x480 with 1 Axes>"
      ]
     },
     "metadata": {},
     "output_type": "display_data"
    },
    {
     "data": {
      "image/png": "[encoded data removed]",
      "text/plain": [
       "<Figure size 640x480 with 1 Axes>"
      ]
     },
     "metadata": {},
     "output_type": "display_data"
    },
    {
     "data": {
      "image/png": "[encoded data removed]",
      "text/plain": [
       "<Figure size 640x480 with 1 Axes>"
      ]
     },
     "metadata": {},
     "output_type": "display_data"
    },
    {
     "data": {
      "image/png": "[encoded data removed]",
      "text/plain": [
       "<Figure size 640x480 with 1 Axes>"
      ]
     },
     "metadata": {},
     "output_type": "display_data"
    },
    {
     "data": {
      "image/png": "[encoded data removed]",
      "text/plain": [
       "<Figure size 640x480 with 1 Axes>"
      ]
     },
     "metadata": {},
     "output_type": "display_data"
    },
    {
     "data": {
      "image/png": "[encoded data removed]",
      "text/plain": [
       "<Figure size 640x480 with 1 Axes>"
      ]
     },
     "metadata": {},
     "output_type": "display_data"
    }
   ],
   "source": [
    "for i in range(0, 10):\n",
    "    \n",
    "    rand = np.random.randint(0,42000)\n",
    "    image_used = data.drop(['label'],axis=1).iloc[rand,:].values.reshape(-1,1)\n",
    "    imag = image_used.reshape(28,28)\n",
    "    label = data['label'].iloc[rand]\n",
    "\n",
    "    predict_number(image_used, W1, B1, W2, B2, W3, B3)"
   ]
  },
  {
   "cell_type": "code",
   "execution_count": null,
   "id": "a8556109-fb4c-47e3-867f-aa1814ab4ca2",
   "metadata": {},
   "outputs": [],
   "source": []
  }
 ],
 "metadata": {
  "kernelspec": {
   "display_name": "Python 3 (ipykernel)",
   "language": "python",
   "name": "python3"
  },
  "language_info": {
   "codemirror_mode": {
    "name": "ipython",
    "version": 3
   },
   "file_extension": ".py",
   "mimetype": "text/x-python",
   "name": "python",
   "nbconvert_exporter": "python",
   "pygments_lexer": "ipython3",
   "version": "3.12.7"
  }
 },
 "nbformat": 4,
 "nbformat_minor": 5
}
