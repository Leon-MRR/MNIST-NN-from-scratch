{
 "cells": [
  {
   "cell_type": "code",
   "execution_count": 6,
   "id": "b433f3f4-c764-4910-8de2-c4dd150d8daf",
   "metadata": {},
   "outputs": [],
   "source": [
    "import numpy as np\n",
    "import matplotlib.pyplot as plt\n",
    "import pandas as pd"
   ]
  },
  {
   "cell_type": "code",
   "execution_count": 28,
   "id": "0a8edeea-14d5-4dbc-a1b2-3ea5e70df54e",
   "metadata": {},
   "outputs": [],
   "source": [
    "data = pd.read_csv('/home/l/Downloads/digit-recognizer/train.csv')"
   ]
  },
  {
   "cell_type": "code",
   "execution_count": 29,
   "id": "a652abcd-2981-43b7-a193-8adb792d717c",
   "metadata": {},
   "outputs": [
    {
     "data": {
      "text/html": [
       "<div>\n",
       "<style scoped>\n",
       "    .dataframe tbody tr th:only-of-type {\n",
       "        vertical-align: middle;\n",
       "    }\n",
       "\n",
       "    .dataframe tbody tr th {\n",
       "        vertical-align: top;\n",
       "    }\n",
       "\n",
       "    .dataframe thead th {\n",
       "        text-align: right;\n",
       "    }\n",
       "</style>\n",
       "<table border=\"1\" class=\"dataframe\">\n",
       "  <thead>\n",
       "    <tr style=\"text-align: right;\">\n",
       "      <th></th>\n",
       "      <th>label</th>\n",
       "      <th>pixel0</th>\n",
       "      <th>pixel1</th>\n",
       "      <th>pixel2</th>\n",
       "      <th>pixel3</th>\n",
       "      <th>pixel4</th>\n",
       "      <th>pixel5</th>\n",
       "      <th>pixel6</th>\n",
       "      <th>pixel7</th>\n",
       "      <th>pixel8</th>\n",
       "      <th>...</th>\n",
       "      <th>pixel774</th>\n",
       "      <th>pixel775</th>\n",
       "      <th>pixel776</th>\n",
       "      <th>pixel777</th>\n",
       "      <th>pixel778</th>\n",
       "      <th>pixel779</th>\n",
       "      <th>pixel780</th>\n",
       "      <th>pixel781</th>\n",
       "      <th>pixel782</th>\n",
       "      <th>pixel783</th>\n",
       "    </tr>\n",
       "  </thead>\n",
       "  <tbody>\n",
       "    <tr>\n",
       "      <th>0</th>\n",
       "      <td>1</td>\n",
       "      <td>0</td>\n",
       "      <td>0</td>\n",
       "      <td>0</td>\n",
       "      <td>0</td>\n",
       "      <td>0</td>\n",
       "      <td>0</td>\n",
       "      <td>0</td>\n",
       "      <td>0</td>\n",
       "      <td>0</td>\n",
       "      <td>...</td>\n",
       "      <td>0</td>\n",
       "      <td>0</td>\n",
       "      <td>0</td>\n",
       "      <td>0</td>\n",
       "      <td>0</td>\n",
       "      <td>0</td>\n",
       "      <td>0</td>\n",
       "      <td>0</td>\n",
       "      <td>0</td>\n",
       "      <td>0</td>\n",
       "    </tr>\n",
       "    <tr>\n",
       "      <th>1</th>\n",
       "      <td>0</td>\n",
       "      <td>0</td>\n",
       "      <td>0</td>\n",
       "      <td>0</td>\n",
       "      <td>0</td>\n",
       "      <td>0</td>\n",
       "      <td>0</td>\n",
       "      <td>0</td>\n",
       "      <td>0</td>\n",
       "      <td>0</td>\n",
       "      <td>...</td>\n",
       "      <td>0</td>\n",
       "      <td>0</td>\n",
       "      <td>0</td>\n",
       "      <td>0</td>\n",
       "      <td>0</td>\n",
       "      <td>0</td>\n",
       "      <td>0</td>\n",
       "      <td>0</td>\n",
       "      <td>0</td>\n",
       "      <td>0</td>\n",
       "    </tr>\n",
       "    <tr>\n",
       "      <th>2</th>\n",
       "      <td>1</td>\n",
       "      <td>0</td>\n",
       "      <td>0</td>\n",
       "      <td>0</td>\n",
       "      <td>0</td>\n",
       "      <td>0</td>\n",
       "      <td>0</td>\n",
       "      <td>0</td>\n",
       "      <td>0</td>\n",
       "      <td>0</td>\n",
       "      <td>...</td>\n",
       "      <td>0</td>\n",
       "      <td>0</td>\n",
       "      <td>0</td>\n",
       "      <td>0</td>\n",
       "      <td>0</td>\n",
       "      <td>0</td>\n",
       "      <td>0</td>\n",
       "      <td>0</td>\n",
       "      <td>0</td>\n",
       "      <td>0</td>\n",
       "    </tr>\n",
       "    <tr>\n",
       "      <th>3</th>\n",
       "      <td>4</td>\n",
       "      <td>0</td>\n",
       "      <td>0</td>\n",
       "      <td>0</td>\n",
       "      <td>0</td>\n",
       "      <td>0</td>\n",
       "      <td>0</td>\n",
       "      <td>0</td>\n",
       "      <td>0</td>\n",
       "      <td>0</td>\n",
       "      <td>...</td>\n",
       "      <td>0</td>\n",
       "      <td>0</td>\n",
       "      <td>0</td>\n",
       "      <td>0</td>\n",
       "      <td>0</td>\n",
       "      <td>0</td>\n",
       "      <td>0</td>\n",
       "      <td>0</td>\n",
       "      <td>0</td>\n",
       "      <td>0</td>\n",
       "    </tr>\n",
       "    <tr>\n",
       "      <th>4</th>\n",
       "      <td>0</td>\n",
       "      <td>0</td>\n",
       "      <td>0</td>\n",
       "      <td>0</td>\n",
       "      <td>0</td>\n",
       "      <td>0</td>\n",
       "      <td>0</td>\n",
       "      <td>0</td>\n",
       "      <td>0</td>\n",
       "      <td>0</td>\n",
       "      <td>...</td>\n",
       "      <td>0</td>\n",
       "      <td>0</td>\n",
       "      <td>0</td>\n",
       "      <td>0</td>\n",
       "      <td>0</td>\n",
       "      <td>0</td>\n",
       "      <td>0</td>\n",
       "      <td>0</td>\n",
       "      <td>0</td>\n",
       "      <td>0</td>\n",
       "    </tr>\n",
       "  </tbody>\n",
       "</table>\n",
       "<p>5 rows × 785 columns</p>\n",
       "</div>"
      ],
      "text/plain": [
       "   label  pixel0  pixel1  pixel2  pixel3  pixel4  pixel5  pixel6  pixel7  \\\n",
       "0      1       0       0       0       0       0       0       0       0   \n",
       "1      0       0       0       0       0       0       0       0       0   \n",
       "2      1       0       0       0       0       0       0       0       0   \n",
       "3      4       0       0       0       0       0       0       0       0   \n",
       "4      0       0       0       0       0       0       0       0       0   \n",
       "\n",
       "   pixel8  ...  pixel774  pixel775  pixel776  pixel777  pixel778  pixel779  \\\n",
       "0       0  ...         0         0         0         0         0         0   \n",
       "1       0  ...         0         0         0         0         0         0   \n",
       "2       0  ...         0         0         0         0         0         0   \n",
       "3       0  ...         0         0         0         0         0         0   \n",
       "4       0  ...         0         0         0         0         0         0   \n",
       "\n",
       "   pixel780  pixel781  pixel782  pixel783  \n",
       "0         0         0         0         0  \n",
       "1         0         0         0         0  \n",
       "2         0         0         0         0  \n",
       "3         0         0         0         0  \n",
       "4         0         0         0         0  \n",
       "\n",
       "[5 rows x 785 columns]"
      ]
     },
     "execution_count": 29,
     "metadata": {},
     "output_type": "execute_result"
    }
   ],
   "source": [
    "data.head()"
   ]
  },
  {
   "cell_type": "code",
   "execution_count": 9,
   "id": "4685e79e-82e2-435d-86a8-8207c8c0280f",
   "metadata": {},
   "outputs": [
    {
     "data": {
      "text/plain": [
       "(784, 42000)"
      ]
     },
     "execution_count": 9,
     "metadata": {},
     "output_type": "execute_result"
    }
   ],
   "source": [
    "Y = data['label']\n",
    "X = data.drop(['label'],axis=1)\n",
    "\n",
    "m,n = X.shape\n",
    "\n",
    "Y = np.array(Y)\n",
    "X = np.array(X)\n",
    "\n",
    "\n",
    "X = X.T\n",
    "X.shape"
   ]
  },
  {
   "cell_type": "code",
   "execution_count": 10,
   "id": "58be1f7c-602d-43eb-9ce2-819c7a753ede",
   "metadata": {},
   "outputs": [],
   "source": [
    "indices = np.random.permutation(len(Y))\n",
    "\n",
    "X = X[:,indices]\n",
    "Y = Y[indices]"
   ]
  },
  {
   "cell_type": "code",
   "execution_count": 16,
   "id": "999a29b7-1fd1-48ef-9643-f68fea9b0c35",
   "metadata": {},
   "outputs": [],
   "source": [
    "W1 = np.random.randn(10, n) * np.sqrt(2 / n)\n",
    "B1 = np.random.randn(10,1) * np.sqrt(2 / 10)\n",
    "W2 = np.random.randn(10,10) * np.sqrt(2 / 10)\n",
    "B2 = np.random.randn(10,1) * np.sqrt(2 / 10)\n",
    "W3 = np.random.randn(10,10) * np.sqrt(2 / 10)\n",
    "B3 = np.random.randn(10,1) * np.sqrt(2 / 10)"
   ]
  },
  {
   "cell_type": "code",
   "execution_count": 19,
   "id": "846a27d0-9038-42c3-90ae-a1f7de35fd2d",
   "metadata": {},
   "outputs": [],
   "source": [
    "weights = np.load(\"Model_weights.npz\")\n",
    "\n",
    "W1 = weights['W1']\n",
    "W2 = weights['W2']\n",
    "W3 = weights['W3']\n",
    "B1 = weights['B1']\n",
    "B2 = weights['B2']\n",
    "B3 = weights['B3']"
   ]
  },
  {
   "cell_type": "code",
   "execution_count": 136,
   "id": "497b5274-3150-41a1-a269-edc8738da5e6",
   "metadata": {},
   "outputs": [],
   "source": [
    "def relu(x):\n",
    "    return np.maximum(x,0)\n",
    "\n",
    "def softmax(x):\n",
    "    exp_x = np.exp(x - np.max(x, axis=0, keepdims=True)) \n",
    "    return exp_x / np.sum(exp_x, axis=0, keepdims=True)  \n",
    "    \n",
    "def deriv_relu(x):\n",
    "    return (x > 0).astype(int)"
   ]
  },
  {
   "cell_type": "code",
   "execution_count": 128,
   "id": "4bb4084a-0301-49e5-a533-f348d070fea9",
   "metadata": {},
   "outputs": [],
   "source": [
    "def train_test_split(x, y, test_size=0.2):\n",
    "    num = int((1 - test_size) * m)\n",
    "    x_train = x[:, :num]\n",
    "    y_train = y[:num]\n",
    "    x_test = x[:, num:]\n",
    "    y_test = y[num:]\n",
    "    \n",
    "    return x_train, y_train, x_test, y_test\n",
    "\n",
    "def one_hot_enc(y, classes=10):\n",
    "    one_hot = np.zeros((y.size, classes))\n",
    "    one_hot[np.arange(y.size), y] = 1\n",
    "    \n",
    "    return one_hot"
   ]
  },
  {
   "cell_type": "code",
   "execution_count": 129,
   "id": "67b5dad8-1928-4871-8aeb-2482d194b127",
   "metadata": {},
   "outputs": [],
   "source": [
    "def fwd_prop(x, W1, B1, W2, B2, W3, B3):\n",
    "    \n",
    "    Z1 = np.dot(W1,x) + B1\n",
    "    A1 = relu(Z1)\n",
    "    Z2 = np.dot(W2,A1) + B2\n",
    "    A2 = relu(Z2)\n",
    "    Z3 = np.dot(W3,A2) + B3\n",
    "    A3 = softmax(Z3)\n",
    "    \n",
    "    return Z1, A1, Z2, A2, Z3, A3\n",
    "\n",
    "\n",
    "def back_prop(x, y, Z1, A1, Z2, A2, Z3, A3, b_s=1):\n",
    "    dZ3 = A3 - y\n",
    "    dW3 = np.dot(dZ3,A2.T) / b_s \n",
    "    dB3 = np.sum(dZ3, axis=1, keepdims=True) / b_s\n",
    "    dA2 = np.dot(W3.T,dZ3)\n",
    "    dZ2 = dA2 * deriv_relu(Z2) \n",
    "    dW2 = np.dot(dZ2, A1.T) / b_s\n",
    "    dB2 = np.sum(dZ2, axis=1, keepdims=True) / b_s\n",
    "\n",
    "    dA1 = np.dot(W2.T, dZ2)\n",
    "    dZ1 = dA1 * deriv_relu(Z1)\n",
    "    dW1 = np.dot(dZ1, x.T) / b_s\n",
    "    dB1 = np.sum(dZ1, axis=1, keepdims=True) / b_s\n",
    "     \n",
    "    return dW3, dB3, dW2, dB2, dW1, dB1"
   ]
  },
  {
   "cell_type": "code",
   "execution_count": 75,
   "id": "72ec0839-8354-454d-b81d-1a04902733a8",
   "metadata": {},
   "outputs": [
    {
     "data": {
      "text/plain": [
       "(10, 10)"
      ]
     },
     "execution_count": 75,
     "metadata": {},
     "output_type": "execute_result"
    }
   ],
   "source": [
    "A1.shape"
   ]
  },
  {
   "cell_type": "code",
   "execution_count": 166,
   "id": "5c37926c-4500-4091-a7e7-bea5de94fbec",
   "metadata": {},
   "outputs": [
    {
     "data": {
      "text/plain": [
       "(33600,)"
      ]
     },
     "execution_count": 166,
     "metadata": {},
     "output_type": "execute_result"
    }
   ],
   "source": [
    "X_train, Y_train, X_test, Y_test = train_test_split(X, Y)\n",
    "batch_size = 10\n",
    "eta = 0.0001\n",
    "eta_decay = 0.995\n",
    "Y_train.shape"
   ]
  },
  {
   "cell_type": "code",
   "execution_count": 320,
   "id": "3a1a12f8-ce34-4f75-be97-4df199e4754e",
   "metadata": {},
   "outputs": [
    {
     "name": "stdout",
     "output_type": "stream",
     "text": [
      "Epoch 1/400, Loss: 0.0444\n",
      "Epoch 21/400, Loss: 0.0441\n",
      "Epoch 41/400, Loss: 0.0436\n",
      "Epoch 61/400, Loss: 0.0434\n",
      "Epoch 81/400, Loss: 0.0423\n",
      "Epoch 101/400, Loss: 0.0423\n",
      "Epoch 121/400, Loss: 0.0424\n",
      "Epoch 141/400, Loss: 0.0420\n",
      "Epoch 161/400, Loss: 0.0428\n",
      "Epoch 181/400, Loss: 0.0417\n",
      "Epoch 201/400, Loss: 0.0422\n",
      "Epoch 221/400, Loss: 0.0434\n",
      "Epoch 241/400, Loss: 0.0434\n",
      "Epoch 261/400, Loss: 0.0434\n",
      "Epoch 281/400, Loss: 0.0441\n"
     ]
    }
   ],
   "source": [
    "for epoch in range(300):\n",
    "    for i in range(0, X_train.shape[1], batch_size):\n",
    "       \n",
    "        X_batch = X_train[:,i:i+batch_size]\n",
    "        Y_target = one_hot_enc(Y_train[i:i+batch_size]).T\n",
    "    \n",
    "    \n",
    "        Z1, A1, Z2, A2, Z3, A3 = fwd_prop(X_batch, W1, B1, W2, B2, W3, B3)\n",
    "        dW3, dB3, dW2, dB2, dW1, dB1 = back_prop(X_batch, Y_target, Z1, A1, Z2, A2, Z3, A3, b_s=10)\n",
    "\n",
    "        loss = -np.mean(Y_target * np.log(A3 + 1e-8))\n",
    "\n",
    "        W1 -= eta*dW1\n",
    "        W2 -= eta*dW2\n",
    "        W3 -= eta*dW3\n",
    "        B1 -= eta*dB1\n",
    "        B2 -= eta*dB2\n",
    "        B3 -= eta*dB3\n",
    "\n",
    "    if epoch%20 == 0 :\n",
    "        print(f'Epoch {epoch+1}/{400}, Loss: {loss:.4f}')\n",
    "\n",
    "    if epoch > 700:\n",
    "        eta *= eta_decay\n"
   ]
  },
  {
   "cell_type": "code",
   "execution_count": 321,
   "id": "b74cc3fc-5e2e-4200-872f-6c6a0f7982b7",
   "metadata": {},
   "outputs": [],
   "source": [
    "np.savez(\"Model_weights.npz\", W1=W1, W2=W2,W3=W3, B1=B1, B2=B2, B3=B3)"
   ]
  },
  {
   "cell_type": "code",
   "execution_count": 47,
   "id": "e9db751d-d324-4dad-b806-3874c41e24e0",
   "metadata": {
    "scrolled": true
   },
   "outputs": [
    {
     "name": "stdout",
     "output_type": "stream",
     "text": [
      "Epoch 1, Loss 0.0029602748441062586\n",
      "Epoch 101, Loss 0.009851308882221325\n",
      "Epoch 201, Loss 0.009851308882221325\n",
      "Epoch 301, Loss 0.009851308882221325\n",
      "Epoch 401, Loss 0.0323428096328465\n",
      "Epoch 501, Loss 5.101187783073806e-07\n",
      "Epoch 601, Loss 0.014794688793444408\n",
      "Epoch 701, Loss 0.005007115753663362\n",
      "Epoch 801, Loss 0.02870013414465545\n",
      "Epoch 901, Loss 0.012342734631082371\n",
      "Epoch 1001, Loss 0.004708442817029615\n",
      "Epoch 1101, Loss 0.0054234197246542295\n",
      "Epoch 1201, Loss 0.4249663919175424\n",
      "Epoch 1301, Loss 0.011761596778110225\n",
      "Epoch 1401, Loss 0.016238156532047177\n",
      "Epoch 1501, Loss 0.008377273897537089\n",
      "Epoch 1601, Loss 0.031577041858318285\n",
      "Epoch 1701, Loss 0.0009579583244706145\n",
      "Epoch 1801, Loss 0.007571352582923842\n",
      "Epoch 1901, Loss 0.012064625620727965\n",
      "Epoch 2001, Loss 0.020454797376947588\n",
      "Epoch 2101, Loss 0.0003175497251489994\n",
      "Epoch 2201, Loss 3.035958197627883e-09\n",
      "Epoch 2301, Loss 0.007732943469170013\n",
      "Epoch 2401, Loss 0.00043681971134927123\n",
      "Epoch 2501, Loss 0.0001058004380071774\n",
      "Epoch 2601, Loss 0.018021664186071984\n",
      "Epoch 2701, Loss 0.0005981085300946045\n",
      "Epoch 2801, Loss 0.5054505392105534\n",
      "Epoch 2901, Loss 0.1707530567492976\n",
      "Epoch 3001, Loss 0.000503964577405082\n",
      "Epoch 3101, Loss 0.0057244367601680946\n",
      "Epoch 3201, Loss 0.009969293479674459\n",
      "Epoch 3301, Loss 0.003799742769971712\n",
      "Epoch 3401, Loss 0.041741877068033145\n",
      "Epoch 3501, Loss 0.0027251166388710386\n",
      "Epoch 3601, Loss 0.005680090438413437\n",
      "Epoch 3701, Loss 0.004846432809022198\n",
      "Epoch 3801, Loss 0.12787187613595735\n",
      "Epoch 3901, Loss 0.0032144755583482175\n",
      "Epoch 4001, Loss 0.0028663733534859816\n",
      "Epoch 4101, Loss 0.009851308882221325\n",
      "Epoch 4201, Loss 0.014517506142573439\n",
      "Epoch 4301, Loss 1.1766654651264619e-06\n",
      "Epoch 4401, Loss 0.3032058813485071\n",
      "Epoch 4501, Loss 0.00589440301576439\n",
      "Epoch 4601, Loss 0.0002954086794582988\n",
      "Epoch 4701, Loss 0.0011774187984238986\n",
      "Epoch 4801, Loss 0.0022955569967438388\n",
      "Epoch 4901, Loss 0.01250009333710277\n",
      "Epoch 5001, Loss 0.0015269677750473398\n",
      "Epoch 5101, Loss 6.445658343785454e-05\n",
      "Epoch 5201, Loss 0.06195471091862176\n",
      "Epoch 5301, Loss 0.03329467127167219\n",
      "Epoch 5401, Loss 0.04246086617772027\n",
      "Epoch 5501, Loss 0.0022337009952349677\n",
      "Epoch 5601, Loss 0.001114805216963658\n",
      "Epoch 5701, Loss 0.00020447958727971778\n",
      "Epoch 5801, Loss 0.00030423178940540673\n",
      "Epoch 5901, Loss 0.00026253965657464643\n",
      "Epoch 6001, Loss 0.0037325759903229587\n",
      "Epoch 6101, Loss 0.23399390921577295\n",
      "Epoch 6201, Loss 0.2698260549608472\n",
      "Epoch 6301, Loss 0.007477556763175611\n",
      "Epoch 6401, Loss 0.010957883522523533\n",
      "Epoch 6501, Loss 0.004867469332347287\n",
      "Epoch 6601, Loss 0.010794123483791825\n",
      "Epoch 6701, Loss 0.012006317844093372\n",
      "Epoch 6801, Loss 0.002626607892657044\n",
      "Epoch 6901, Loss 1.2643194616105533\n",
      "Epoch 7001, Loss 0.0005149820970518195\n",
      "Epoch 7101, Loss 0.0011230418322684677\n",
      "Epoch 7201, Loss 0.0046676396295899465\n",
      "Epoch 7301, Loss 0.03343812911678971\n",
      "Epoch 7401, Loss 0.007870247939185684\n",
      "Epoch 7501, Loss 0.009851308882221325\n",
      "Epoch 7601, Loss 0.005565919863045421\n",
      "Epoch 7701, Loss 0.008431465872683569\n",
      "Epoch 7801, Loss 0.0038833668143718678\n",
      "Epoch 7901, Loss 0.04550079622985242\n",
      "Epoch 8001, Loss 0.00790203707455614\n",
      "Epoch 8101, Loss 0.0017057943936204668\n",
      "Epoch 8201, Loss 0.04683734788500307\n",
      "Epoch 8301, Loss 0.0016304910627280632\n",
      "Average loss = 0.06223456616362277\n"
     ]
    }
   ],
   "source": [
    "total_loss = 0\n",
    "for i in range(0, X_test.shape[1]):\n",
    "\n",
    "    X_batch_test = X_test[:,i].reshape(-1,1)\n",
    "    Y_targ = one_hot_enc(Y_test[i]).T\n",
    "\n",
    "    Z1, A1, Z2, A2, Z3, Y_predict = fwd_prop(X_batch_test, W1, B1, W2, B2, W3, B3)\n",
    "    training_loss = -np.mean(Y_targ * np.log(Y_predict + 1e-8))\n",
    "\n",
    "    if i % 100 == 0:\n",
    "        print(f'Epoch {i+1}, Loss {training_loss}')\n",
    "    total_loss += training_loss\n",
    "\n",
    "avg_loss = total_loss / X_test.shape[1]\n",
    "print(f'Average loss = {avg_loss}')"
   ]
  },
  {
   "cell_type": "code",
   "execution_count": 3,
   "id": "58afc397-3208-4df7-9598-04ea4e87d3af",
   "metadata": {},
   "outputs": [],
   "source": [
    "import cv2"
   ]
  },
  {
   "cell_type": "code",
   "execution_count": 313,
   "id": "4f78b22b-99a7-419a-a2d2-ecae9ba58831",
   "metadata": {
    "scrolled": true
   },
   "outputs": [
    {
     "data": {
      "image/png": "[encoded data removed]",
      "text/plain": [
       "<Figure size 640x480 with 1 Axes>"
      ]
     },
     "metadata": {},
     "output_type": "display_data"
    }
   ],
   "source": [
    "\n",
    "\n"
   ]
  },
  {
   "cell_type": "code",
   "execution_count": 309,
   "id": "50af26e1-a732-4925-a88e-c0097756b602",
   "metadata": {},
   "outputs": [
    {
     "data": {
      "text/plain": [
       "array([[0., 0., 0., 1., 0., 0., 0., 0., 0., 0.]])"
      ]
     },
     "execution_count": 309,
     "metadata": {},
     "output_type": "execute_result"
    }
   ],
   "source": [
    "one_hot_enc(label)"
   ]
  },
  {
   "cell_type": "code",
   "execution_count": 310,
   "id": "93930d45-a0b9-4ad6-8ff1-bbf73f7e238d",
   "metadata": {},
   "outputs": [
    {
     "data": {
      "text/plain": [
       "(784, 1)"
      ]
     },
     "execution_count": 310,
     "metadata": {},
     "output_type": "execute_result"
    }
   ],
   "source": [
    "image_used.shape"
   ]
  },
  {
   "cell_type": "code",
   "execution_count": 316,
   "id": "a8b8e6d6-d2df-4baa-80c8-b531d5b0f100",
   "metadata": {},
   "outputs": [],
   "source": [
    "def predict_number(image, W1, B1, W2, B2, W3, B3):\n",
    "\n",
    "    _, _, _, _, _, Y_pred = fwd_prop(image, W1, B1, W2, B2, W3, B3)\n",
    "\n",
    "    prediction = np.argmax(Y_pred)\n",
    "\n",
    "    plt.imshow(image.reshape(28,28), cmap='gray')\n",
    "    plt.title(f'Label = {label}')\n",
    "    plt.axis('off')\n",
    "    plt.text(14, 30, f\"Prediction = {prediction}\", fontsize=12, ha='center')\n",
    "    plt.show()\n",
    "\n",
    "\n",
    "\n",
    "    return prediction"
   ]
  },
  {
   "cell_type": "code",
   "execution_count": 318,
   "id": "d7a7f2f9-ccc9-4824-a09e-5d85c4b68ffd",
   "metadata": {},
   "outputs": [
    {
     "data": {
      "image/png": "[encoded data removed]",
      "text/plain": [
       "<Figure size 640x480 with 1 Axes>"
      ]
     },
     "metadata": {},
     "output_type": "display_data"
    },
    {
     "data": {
      "image/png": "[encoded data removed]",
      "text/plain": [
       "<Figure size 640x480 with 1 Axes>"
      ]
     },
     "metadata": {},
     "output_type": "display_data"
    },
    {
     "data": {
      "image/png": "[encoded data removed]",
      "text/plain": [
       "<Figure size 640x480 with 1 Axes>"
      ]
     },
     "metadata": {},
     "output_type": "display_data"
    },
    {
     "data": {
      "image/png": "[encoded data removed]",
      "text/plain": [
       "<Figure size 640x480 with 1 Axes>"
      ]
     },
     "metadata": {},
     "output_type": "display_data"
    },
    {
     "data": {
      "image/png": "[encoded data removed]",
      "text/plain": [
       "<Figure size 640x480 with 1 Axes>"
      ]
     },
     "metadata": {},
     "output_type": "display_data"
    },
    {
     "data": {
      "image/png": "[encoded data removed]",
      "text/plain": [
       "<Figure size 640x480 with 1 Axes>"
      ]
     },
     "metadata": {},
     "output_type": "display_data"
    },
    {
     "data": {
      "image/png": "[encoded data removed]",
      "text/plain": [
       "<Figure size 640x480 with 1 Axes>"
      ]
     },
     "metadata": {},
     "output_type": "display_data"
    },
    {
     "data": {
      "image/png": "[encoded data removed]",
      "text/plain": [
       "<Figure size 640x480 with 1 Axes>"
      ]
     },
     "metadata": {},
     "output_type": "display_data"
    },
    {
     "data": {
      "image/png": "[encoded data removed]",
      "text/plain": [
       "<Figure size 640x480 with 1 Axes>"
      ]
     },
     "metadata": {},
     "output_type": "display_data"
    },
    {
     "data": {
      "image/png": "[encoded data removed]",
      "text/plain": [
       "<Figure size 640x480 with 1 Axes>"
      ]
     },
     "metadata": {},
     "output_type": "display_data"
    }
   ],
   "source": [
    "for i in range(0, 10):\n",
    "    \n",
    "    rand = np.random.randint(0,42000)\n",
    "    image_used = data.drop(['label'],axis=1).iloc[rand,:].values.reshape(-1,1)\n",
    "    imag = image_used.reshape(28,28)\n",
    "    label = data['label'].iloc[rand]\n",
    "\n",
    "    predict_number(image_used, W1, B1, W2, B2, W3, B3)"
   ]
  },
  {
   "cell_type": "code",
   "execution_count": null,
   "id": "a8556109-fb4c-47e3-867f-aa1814ab4ca2",
   "metadata": {},
   "outputs": [],
   "source": []
  }
 ],
 "metadata": {
  "kernelspec": {
   "display_name": "Python 3 (ipykernel)",
   "language": "python",
   "name": "python3"
  },
  "language_info": {
   "codemirror_mode": {
    "name": "ipython",
    "version": 3
   },
   "file_extension": ".py",
   "mimetype": "text/x-python",
   "name": "python",
   "nbconvert_exporter": "python",
   "pygments_lexer": "ipython3",
   "version": "3.12.7"
  }
 },
 "nbformat": 4,
 "nbformat_minor": 5
}
